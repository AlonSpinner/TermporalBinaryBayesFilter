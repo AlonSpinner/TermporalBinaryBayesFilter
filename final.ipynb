{
 "cells": [
  {
   "cell_type": "code",
   "execution_count": null,
   "metadata": {},
   "outputs": [],
   "source": [
    "def calculate_probability(z,m): #O(1)\n",
    "    if m == \"⬜\":\n",
    "        if z == \"⬜\":\n",
    "            p = 0.6\n",
    "        else: # z == \"⬛\"\n",
    "            p = 0.4\n",
    "    else: #m == \"⬛\"\n",
    "        if z==\"⬛\":\n",
    "            p = 0.7\n",
    "        else: # z == \"⬜\"\n",
    "            p = 0.3\n",
    "    return p\n",
    "\n",
    "def update_histogram(h,z,M): #O(2 * len(M))\n",
    "    for i in range(len(h)):\n",
    "            h[i] = h[i-1] * calculate_probability(z,M[i])\n",
    "    #normalize\n",
    "    N = sum(h)\n",
    "    for i in range(len(h)):\n",
    "        h[i] = h[i]/N\n",
    "    return h"
   ]
  }
 ],
 "metadata": {
  "language_info": {
   "name": "python"
  },
  "orig_nbformat": 4
 },
 "nbformat": 4,
 "nbformat_minor": 2
}
